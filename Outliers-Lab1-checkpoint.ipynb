{
 "cells": [
  {
   "cell_type": "markdown",
   "id": "timely-involvement",
   "metadata": {},
   "source": [
    "### Import your librares"
   ]
  },
  {
   "cell_type": "code",
   "execution_count": 1,
   "id": "dramatic-briefs",
   "metadata": {},
   "outputs": [],
   "source": [
    "import pandas as pd \n",
    "import numpy as np\n",
    "import seaborn as sns\n",
    "import plotly.express as px\n",
    "import matplotlib.pyplot as plt"
   ]
  },
  {
   "cell_type": "markdown",
   "id": "australian-softball",
   "metadata": {},
   "source": [
    "### Load your dataset"
   ]
  },
  {
   "cell_type": "code",
   "execution_count": 2,
   "id": "average-recipient",
   "metadata": {},
   "outputs": [
    {
     "data": {
      "text/html": [
       "<div>\n",
       "<style scoped>\n",
       "    .dataframe tbody tr th:only-of-type {\n",
       "        vertical-align: middle;\n",
       "    }\n",
       "\n",
       "    .dataframe tbody tr th {\n",
       "        vertical-align: top;\n",
       "    }\n",
       "\n",
       "    .dataframe thead th {\n",
       "        text-align: right;\n",
       "    }\n",
       "</style>\n",
       "<table border=\"1\" class=\"dataframe\">\n",
       "  <thead>\n",
       "    <tr style=\"text-align: right;\">\n",
       "      <th></th>\n",
       "      <th>DATE</th>\n",
       "      <th>PRCP</th>\n",
       "      <th>TMAX</th>\n",
       "      <th>TMIN</th>\n",
       "      <th>RAIN</th>\n",
       "    </tr>\n",
       "  </thead>\n",
       "  <tbody>\n",
       "    <tr>\n",
       "      <th>0</th>\n",
       "      <td>1948-01-01</td>\n",
       "      <td>0.47</td>\n",
       "      <td>51</td>\n",
       "      <td>42</td>\n",
       "      <td>True</td>\n",
       "    </tr>\n",
       "    <tr>\n",
       "      <th>1</th>\n",
       "      <td>1948-01-02</td>\n",
       "      <td>0.59</td>\n",
       "      <td>45</td>\n",
       "      <td>36</td>\n",
       "      <td>True</td>\n",
       "    </tr>\n",
       "    <tr>\n",
       "      <th>2</th>\n",
       "      <td>1948-01-03</td>\n",
       "      <td>0.42</td>\n",
       "      <td>45</td>\n",
       "      <td>35</td>\n",
       "      <td>True</td>\n",
       "    </tr>\n",
       "    <tr>\n",
       "      <th>3</th>\n",
       "      <td>1948-01-04</td>\n",
       "      <td>0.31</td>\n",
       "      <td>45</td>\n",
       "      <td>34</td>\n",
       "      <td>True</td>\n",
       "    </tr>\n",
       "    <tr>\n",
       "      <th>4</th>\n",
       "      <td>1948-01-05</td>\n",
       "      <td>0.17</td>\n",
       "      <td>45</td>\n",
       "      <td>32</td>\n",
       "      <td>True</td>\n",
       "    </tr>\n",
       "    <tr>\n",
       "      <th>...</th>\n",
       "      <td>...</td>\n",
       "      <td>...</td>\n",
       "      <td>...</td>\n",
       "      <td>...</td>\n",
       "      <td>...</td>\n",
       "    </tr>\n",
       "    <tr>\n",
       "      <th>25546</th>\n",
       "      <td>2017-12-10</td>\n",
       "      <td>0.00</td>\n",
       "      <td>49</td>\n",
       "      <td>34</td>\n",
       "      <td>False</td>\n",
       "    </tr>\n",
       "    <tr>\n",
       "      <th>25547</th>\n",
       "      <td>2017-12-11</td>\n",
       "      <td>0.00</td>\n",
       "      <td>49</td>\n",
       "      <td>29</td>\n",
       "      <td>False</td>\n",
       "    </tr>\n",
       "    <tr>\n",
       "      <th>25548</th>\n",
       "      <td>2017-12-12</td>\n",
       "      <td>0.00</td>\n",
       "      <td>46</td>\n",
       "      <td>32</td>\n",
       "      <td>False</td>\n",
       "    </tr>\n",
       "    <tr>\n",
       "      <th>25549</th>\n",
       "      <td>2017-12-13</td>\n",
       "      <td>0.00</td>\n",
       "      <td>48</td>\n",
       "      <td>34</td>\n",
       "      <td>False</td>\n",
       "    </tr>\n",
       "    <tr>\n",
       "      <th>25550</th>\n",
       "      <td>2017-12-14</td>\n",
       "      <td>0.00</td>\n",
       "      <td>50</td>\n",
       "      <td>36</td>\n",
       "      <td>False</td>\n",
       "    </tr>\n",
       "  </tbody>\n",
       "</table>\n",
       "<p>25551 rows × 5 columns</p>\n",
       "</div>"
      ],
      "text/plain": [
       "             DATE  PRCP  TMAX  TMIN   RAIN\n",
       "0      1948-01-01  0.47    51    42   True\n",
       "1      1948-01-02  0.59    45    36   True\n",
       "2      1948-01-03  0.42    45    35   True\n",
       "3      1948-01-04  0.31    45    34   True\n",
       "4      1948-01-05  0.17    45    32   True\n",
       "...           ...   ...   ...   ...    ...\n",
       "25546  2017-12-10  0.00    49    34  False\n",
       "25547  2017-12-11  0.00    49    29  False\n",
       "25548  2017-12-12  0.00    46    32  False\n",
       "25549  2017-12-13  0.00    48    34  False\n",
       "25550  2017-12-14  0.00    50    36  False\n",
       "\n",
       "[25551 rows x 5 columns]"
      ]
     },
     "execution_count": 2,
     "metadata": {},
     "output_type": "execute_result"
    }
   ],
   "source": [
    "Df= pd.read_csv('seattle_weather.csv')\n",
    "Df"
   ]
  },
  {
   "cell_type": "markdown",
   "id": "monthly-meter",
   "metadata": {},
   "source": [
    "### Repeat the following steps for each column within outliers\n",
    "\n",
    "* Visualize the outliers\n",
    "* Detect if your data set contains any outliers\n",
    "* Identify lower & higher limit of outliers\n",
    "* Drop all outliers\n",
    "* Visualize the column after processing\n"
   ]
  },
  {
   "cell_type": "code",
   "execution_count": null,
   "id": "3cb82d4d",
   "metadata": {},
   "outputs": [],
   "source": []
  },
  {
   "cell_type": "code",
   "execution_count": null,
   "id": "0101e248",
   "metadata": {},
   "outputs": [],
   "source": []
  },
  {
   "cell_type": "markdown",
   "id": "advisory-press",
   "metadata": {},
   "source": []
  },
  {
   "cell_type": "code",
   "execution_count": null,
   "id": "enhanced-forge",
   "metadata": {},
   "outputs": [],
   "source": []
  },
  {
   "cell_type": "markdown",
   "id": "compatible-source",
   "metadata": {},
   "source": []
  },
  {
   "cell_type": "code",
   "execution_count": null,
   "id": "professional-error",
   "metadata": {},
   "outputs": [],
   "source": []
  },
  {
   "cell_type": "code",
   "execution_count": null,
   "id": "daily-crime",
   "metadata": {},
   "outputs": [],
   "source": []
  }
 ],
 "metadata": {
  "kernelspec": {
   "display_name": "Python 3 (ipykernel)",
   "language": "python",
   "name": "python3"
  },
  "language_info": {
   "codemirror_mode": {
    "name": "ipython",
    "version": 3
   },
   "file_extension": ".py",
   "mimetype": "text/x-python",
   "name": "python",
   "nbconvert_exporter": "python",
   "pygments_lexer": "ipython3",
   "version": "3.9.12"
  }
 },
 "nbformat": 4,
 "nbformat_minor": 5
}
